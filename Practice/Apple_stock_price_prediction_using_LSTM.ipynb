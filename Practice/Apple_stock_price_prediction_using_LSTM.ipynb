{
 "cells": [
  {
   "cell_type": "markdown",
   "metadata": {},
   "source": [
    "# Apple stock price prediction using LSTM\n",
    "- This is an ipynb file created in Kaggle environment."
   ]
  },
  {
   "cell_type": "code",
   "execution_count": 1,
   "metadata": {
    "_cell_guid": "b1076dfc-b9ad-4769-8c92-a6c4dae69d19",
    "_uuid": "8f2839f25d086af736a60e9eeb907d3b93b6e0e5",
    "execution": {
     "iopub.execute_input": "2021-07-07T04:50:06.980665Z",
     "iopub.status.busy": "2021-07-07T04:50:06.980253Z",
     "iopub.status.idle": "2021-07-07T04:50:06.993667Z",
     "shell.execute_reply": "2021-07-07T04:50:06.992724Z",
     "shell.execute_reply.started": "2021-07-07T04:50:06.980579Z"
    },
    "scrolled": true
   },
   "outputs": [
    {
     "name": "stdout",
     "output_type": "stream",
     "text": [
      "/kaggle/input/apple-stock-price-20162021/AAPL.csv\n"
     ]
    }
   ],
   "source": [
    "# This Python 3 environment comes with many helpful analytics libraries installed\n",
    "# It is defined by the kaggle/python Docker image: https://github.com/kaggle/docker-python\n",
    "# For example, here's several helpful packages to load\n",
    "# Input data files are available in the read-only \"../input/\" directory\n",
    "# For example, running this (by clicking run or pressing Shift+Enter) will list all files under the input directory\n",
    "\n",
    "import os\n",
    "for dirname, _, filenames in os.walk('/kaggle/input'):\n",
    "    for filename in filenames:\n",
    "        print(os.path.join(dirname, filename))\n",
    "\n",
    "# You can write up to 20GB to the current directory (/kaggle/working/) that gets preserved as output when you create a version using \"Save & Run All\" \n",
    "# You can also write temporary files to /kaggle/temp/, but they won't be saved outside of the current session"
   ]
  },
  {
   "cell_type": "markdown",
   "metadata": {},
   "source": [
    "## 0. Import Packages"
   ]
  },
  {
   "cell_type": "code",
   "execution_count": 119,
   "metadata": {
    "execution": {
     "iopub.execute_input": "2021-07-07T05:46:54.035984Z",
     "iopub.status.busy": "2021-07-07T05:46:54.035431Z",
     "iopub.status.idle": "2021-07-07T05:46:54.040769Z",
     "shell.execute_reply": "2021-07-07T05:46:54.039997Z",
     "shell.execute_reply.started": "2021-07-07T05:46:54.035934Z"
    }
   },
   "outputs": [],
   "source": [
    "import numpy as np\n",
    "import pandas as pd\n",
    "import matplotlib.pyplot as plt\n",
    "import math\n",
    "import seaborn as sns\n",
    "from sklearn.preprocessing import MinMaxScaler\n",
    "from sklearn.metrics import mean_squared_error, mean_absolute_error\n",
    "\n",
    "from tensorflow.keras.models import Sequential\n",
    "from tensorflow.keras.layers import Dense\n",
    "from tensorflow.keras.layers import LSTM"
   ]
  },
  {
   "cell_type": "markdown",
   "metadata": {},
   "source": [
    "## 1. Make dataset"
   ]
  },
  {
   "cell_type": "code",
   "execution_count": 120,
   "metadata": {
    "execution": {
     "iopub.execute_input": "2021-07-07T05:46:54.225791Z",
     "iopub.status.busy": "2021-07-07T05:46:54.225439Z",
     "iopub.status.idle": "2021-07-07T05:46:54.259329Z",
     "shell.execute_reply": "2021-07-07T05:46:54.258322Z",
     "shell.execute_reply.started": "2021-07-07T05:46:54.225757Z"
    }
   },
   "outputs": [
    {
     "data": {
      "text/html": [
       "<div>\n",
       "<style scoped>\n",
       "    .dataframe tbody tr th:only-of-type {\n",
       "        vertical-align: middle;\n",
       "    }\n",
       "\n",
       "    .dataframe tbody tr th {\n",
       "        vertical-align: top;\n",
       "    }\n",
       "\n",
       "    .dataframe thead th {\n",
       "        text-align: right;\n",
       "    }\n",
       "</style>\n",
       "<table border=\"1\" class=\"dataframe\">\n",
       "  <thead>\n",
       "    <tr style=\"text-align: right;\">\n",
       "      <th></th>\n",
       "      <th>symbol</th>\n",
       "      <th>date</th>\n",
       "      <th>close</th>\n",
       "      <th>high</th>\n",
       "      <th>low</th>\n",
       "      <th>open</th>\n",
       "      <th>volume</th>\n",
       "      <th>adjClose</th>\n",
       "      <th>adjHigh</th>\n",
       "      <th>adjLow</th>\n",
       "      <th>adjOpen</th>\n",
       "      <th>adjVolume</th>\n",
       "      <th>divCash</th>\n",
       "      <th>splitFactor</th>\n",
       "    </tr>\n",
       "  </thead>\n",
       "  <tbody>\n",
       "    <tr>\n",
       "      <th>0</th>\n",
       "      <td>AAPL</td>\n",
       "      <td>2016-07-05 00:00:00+00:00</td>\n",
       "      <td>94.99</td>\n",
       "      <td>95.40</td>\n",
       "      <td>94.46</td>\n",
       "      <td>95.39</td>\n",
       "      <td>27705210</td>\n",
       "      <td>22.181442</td>\n",
       "      <td>22.277183</td>\n",
       "      <td>22.057680</td>\n",
       "      <td>22.274848</td>\n",
       "      <td>110820840</td>\n",
       "      <td>0.0</td>\n",
       "      <td>1.0</td>\n",
       "    </tr>\n",
       "    <tr>\n",
       "      <th>1</th>\n",
       "      <td>AAPL</td>\n",
       "      <td>2016-07-06 00:00:00+00:00</td>\n",
       "      <td>95.53</td>\n",
       "      <td>95.66</td>\n",
       "      <td>94.37</td>\n",
       "      <td>94.60</td>\n",
       "      <td>30949090</td>\n",
       "      <td>22.307540</td>\n",
       "      <td>22.337896</td>\n",
       "      <td>22.036664</td>\n",
       "      <td>22.090372</td>\n",
       "      <td>123796360</td>\n",
       "      <td>0.0</td>\n",
       "      <td>1.0</td>\n",
       "    </tr>\n",
       "    <tr>\n",
       "      <th>2</th>\n",
       "      <td>AAPL</td>\n",
       "      <td>2016-07-07 00:00:00+00:00</td>\n",
       "      <td>95.94</td>\n",
       "      <td>96.50</td>\n",
       "      <td>95.62</td>\n",
       "      <td>95.70</td>\n",
       "      <td>25139558</td>\n",
       "      <td>22.403280</td>\n",
       "      <td>22.534048</td>\n",
       "      <td>22.328556</td>\n",
       "      <td>22.347237</td>\n",
       "      <td>100558232</td>\n",
       "      <td>0.0</td>\n",
       "      <td>1.0</td>\n",
       "    </tr>\n",
       "    <tr>\n",
       "      <th>3</th>\n",
       "      <td>AAPL</td>\n",
       "      <td>2016-07-08 00:00:00+00:00</td>\n",
       "      <td>96.68</td>\n",
       "      <td>96.89</td>\n",
       "      <td>96.05</td>\n",
       "      <td>96.49</td>\n",
       "      <td>28912103</td>\n",
       "      <td>22.576080</td>\n",
       "      <td>22.625118</td>\n",
       "      <td>22.428967</td>\n",
       "      <td>22.531713</td>\n",
       "      <td>115648412</td>\n",
       "      <td>0.0</td>\n",
       "      <td>1.0</td>\n",
       "    </tr>\n",
       "    <tr>\n",
       "      <th>4</th>\n",
       "      <td>AAPL</td>\n",
       "      <td>2016-07-11 00:00:00+00:00</td>\n",
       "      <td>96.98</td>\n",
       "      <td>97.65</td>\n",
       "      <td>96.73</td>\n",
       "      <td>96.75</td>\n",
       "      <td>23794945</td>\n",
       "      <td>22.646134</td>\n",
       "      <td>22.802588</td>\n",
       "      <td>22.587756</td>\n",
       "      <td>22.592426</td>\n",
       "      <td>95179780</td>\n",
       "      <td>0.0</td>\n",
       "      <td>1.0</td>\n",
       "    </tr>\n",
       "  </tbody>\n",
       "</table>\n",
       "</div>"
      ],
      "text/plain": [
       "  symbol                       date  close   high    low   open    volume  \\\n",
       "0   AAPL  2016-07-05 00:00:00+00:00  94.99  95.40  94.46  95.39  27705210   \n",
       "1   AAPL  2016-07-06 00:00:00+00:00  95.53  95.66  94.37  94.60  30949090   \n",
       "2   AAPL  2016-07-07 00:00:00+00:00  95.94  96.50  95.62  95.70  25139558   \n",
       "3   AAPL  2016-07-08 00:00:00+00:00  96.68  96.89  96.05  96.49  28912103   \n",
       "4   AAPL  2016-07-11 00:00:00+00:00  96.98  97.65  96.73  96.75  23794945   \n",
       "\n",
       "    adjClose    adjHigh     adjLow    adjOpen  adjVolume  divCash  splitFactor  \n",
       "0  22.181442  22.277183  22.057680  22.274848  110820840      0.0          1.0  \n",
       "1  22.307540  22.337896  22.036664  22.090372  123796360      0.0          1.0  \n",
       "2  22.403280  22.534048  22.328556  22.347237  100558232      0.0          1.0  \n",
       "3  22.576080  22.625118  22.428967  22.531713  115648412      0.0          1.0  \n",
       "4  22.646134  22.802588  22.587756  22.592426   95179780      0.0          1.0  "
      ]
     },
     "execution_count": 120,
     "metadata": {},
     "output_type": "execute_result"
    }
   ],
   "source": [
    "df = pd.read_csv(\"/kaggle/input/apple-stock-price-20162021/AAPL.csv\")\n",
    "df.head()"
   ]
  },
  {
   "cell_type": "code",
   "execution_count": 121,
   "metadata": {
    "execution": {
     "iopub.execute_input": "2021-07-07T05:46:54.411439Z",
     "iopub.status.busy": "2021-07-07T05:46:54.411070Z",
     "iopub.status.idle": "2021-07-07T05:46:54.432959Z",
     "shell.execute_reply": "2021-07-07T05:46:54.431719Z",
     "shell.execute_reply.started": "2021-07-07T05:46:54.411384Z"
    }
   },
   "outputs": [
    {
     "data": {
      "text/html": [
       "<div>\n",
       "<style scoped>\n",
       "    .dataframe tbody tr th:only-of-type {\n",
       "        vertical-align: middle;\n",
       "    }\n",
       "\n",
       "    .dataframe tbody tr th {\n",
       "        vertical-align: top;\n",
       "    }\n",
       "\n",
       "    .dataframe thead th {\n",
       "        text-align: right;\n",
       "    }\n",
       "</style>\n",
       "<table border=\"1\" class=\"dataframe\">\n",
       "  <thead>\n",
       "    <tr style=\"text-align: right;\">\n",
       "      <th></th>\n",
       "      <th>symbol</th>\n",
       "      <th>date</th>\n",
       "      <th>close</th>\n",
       "      <th>high</th>\n",
       "      <th>low</th>\n",
       "      <th>open</th>\n",
       "      <th>volume</th>\n",
       "      <th>adjClose</th>\n",
       "      <th>adjHigh</th>\n",
       "      <th>adjLow</th>\n",
       "      <th>adjOpen</th>\n",
       "      <th>adjVolume</th>\n",
       "      <th>divCash</th>\n",
       "      <th>splitFactor</th>\n",
       "    </tr>\n",
       "  </thead>\n",
       "  <tbody>\n",
       "    <tr>\n",
       "      <th>1254</th>\n",
       "      <td>AAPL</td>\n",
       "      <td>2021-06-28 00:00:00+00:00</td>\n",
       "      <td>134.78</td>\n",
       "      <td>135.245</td>\n",
       "      <td>133.350</td>\n",
       "      <td>133.41</td>\n",
       "      <td>62111303</td>\n",
       "      <td>134.78</td>\n",
       "      <td>135.245</td>\n",
       "      <td>133.350</td>\n",
       "      <td>133.41</td>\n",
       "      <td>62111303</td>\n",
       "      <td>0.0</td>\n",
       "      <td>1.0</td>\n",
       "    </tr>\n",
       "    <tr>\n",
       "      <th>1255</th>\n",
       "      <td>AAPL</td>\n",
       "      <td>2021-06-29 00:00:00+00:00</td>\n",
       "      <td>136.33</td>\n",
       "      <td>136.490</td>\n",
       "      <td>134.350</td>\n",
       "      <td>134.80</td>\n",
       "      <td>64556081</td>\n",
       "      <td>136.33</td>\n",
       "      <td>136.490</td>\n",
       "      <td>134.350</td>\n",
       "      <td>134.80</td>\n",
       "      <td>64556081</td>\n",
       "      <td>0.0</td>\n",
       "      <td>1.0</td>\n",
       "    </tr>\n",
       "    <tr>\n",
       "      <th>1256</th>\n",
       "      <td>AAPL</td>\n",
       "      <td>2021-06-30 00:00:00+00:00</td>\n",
       "      <td>136.96</td>\n",
       "      <td>137.410</td>\n",
       "      <td>135.870</td>\n",
       "      <td>136.17</td>\n",
       "      <td>63261393</td>\n",
       "      <td>136.96</td>\n",
       "      <td>137.410</td>\n",
       "      <td>135.870</td>\n",
       "      <td>136.17</td>\n",
       "      <td>63261393</td>\n",
       "      <td>0.0</td>\n",
       "      <td>1.0</td>\n",
       "    </tr>\n",
       "    <tr>\n",
       "      <th>1257</th>\n",
       "      <td>AAPL</td>\n",
       "      <td>2021-07-01 00:00:00+00:00</td>\n",
       "      <td>137.27</td>\n",
       "      <td>137.330</td>\n",
       "      <td>135.760</td>\n",
       "      <td>136.60</td>\n",
       "      <td>52485781</td>\n",
       "      <td>137.27</td>\n",
       "      <td>137.330</td>\n",
       "      <td>135.760</td>\n",
       "      <td>136.60</td>\n",
       "      <td>52485781</td>\n",
       "      <td>0.0</td>\n",
       "      <td>1.0</td>\n",
       "    </tr>\n",
       "    <tr>\n",
       "      <th>1258</th>\n",
       "      <td>AAPL</td>\n",
       "      <td>2021-07-02 00:00:00+00:00</td>\n",
       "      <td>139.96</td>\n",
       "      <td>140.000</td>\n",
       "      <td>137.745</td>\n",
       "      <td>137.90</td>\n",
       "      <td>78945572</td>\n",
       "      <td>139.96</td>\n",
       "      <td>140.000</td>\n",
       "      <td>137.745</td>\n",
       "      <td>137.90</td>\n",
       "      <td>78945572</td>\n",
       "      <td>0.0</td>\n",
       "      <td>1.0</td>\n",
       "    </tr>\n",
       "  </tbody>\n",
       "</table>\n",
       "</div>"
      ],
      "text/plain": [
       "     symbol                       date   close     high      low    open  \\\n",
       "1254   AAPL  2021-06-28 00:00:00+00:00  134.78  135.245  133.350  133.41   \n",
       "1255   AAPL  2021-06-29 00:00:00+00:00  136.33  136.490  134.350  134.80   \n",
       "1256   AAPL  2021-06-30 00:00:00+00:00  136.96  137.410  135.870  136.17   \n",
       "1257   AAPL  2021-07-01 00:00:00+00:00  137.27  137.330  135.760  136.60   \n",
       "1258   AAPL  2021-07-02 00:00:00+00:00  139.96  140.000  137.745  137.90   \n",
       "\n",
       "        volume  adjClose  adjHigh   adjLow  adjOpen  adjVolume  divCash  \\\n",
       "1254  62111303    134.78  135.245  133.350   133.41   62111303      0.0   \n",
       "1255  64556081    136.33  136.490  134.350   134.80   64556081      0.0   \n",
       "1256  63261393    136.96  137.410  135.870   136.17   63261393      0.0   \n",
       "1257  52485781    137.27  137.330  135.760   136.60   52485781      0.0   \n",
       "1258  78945572    139.96  140.000  137.745   137.90   78945572      0.0   \n",
       "\n",
       "      splitFactor  \n",
       "1254          1.0  \n",
       "1255          1.0  \n",
       "1256          1.0  \n",
       "1257          1.0  \n",
       "1258          1.0  "
      ]
     },
     "execution_count": 121,
     "metadata": {},
     "output_type": "execute_result"
    }
   ],
   "source": [
    "df.tail()"
   ]
  },
  {
   "cell_type": "code",
   "execution_count": 122,
   "metadata": {
    "execution": {
     "iopub.execute_input": "2021-07-07T05:46:54.616710Z",
     "iopub.status.busy": "2021-07-07T05:46:54.616330Z",
     "iopub.status.idle": "2021-07-07T05:46:54.622247Z",
     "shell.execute_reply": "2021-07-07T05:46:54.621227Z",
     "shell.execute_reply.started": "2021-07-07T05:46:54.616677Z"
    }
   },
   "outputs": [
    {
     "name": "stdout",
     "output_type": "stream",
     "text": [
      "(1259, 14)\n"
     ]
    }
   ],
   "source": [
    "print(df.shape)"
   ]
  },
  {
   "cell_type": "code",
   "execution_count": 123,
   "metadata": {
    "execution": {
     "iopub.execute_input": "2021-07-07T05:46:54.773185Z",
     "iopub.status.busy": "2021-07-07T05:46:54.772644Z",
     "iopub.status.idle": "2021-07-07T05:46:54.782857Z",
     "shell.execute_reply": "2021-07-07T05:46:54.781726Z",
     "shell.execute_reply.started": "2021-07-07T05:46:54.773135Z"
    }
   },
   "outputs": [
    {
     "data": {
      "text/plain": [
       "0        94.99\n",
       "1        95.53\n",
       "2        95.94\n",
       "3        96.68\n",
       "4        96.98\n",
       "         ...  \n",
       "1254    134.78\n",
       "1255    136.33\n",
       "1256    136.96\n",
       "1257    137.27\n",
       "1258    139.96\n",
       "Name: close, Length: 1259, dtype: float64"
      ]
     },
     "execution_count": 123,
     "metadata": {},
     "output_type": "execute_result"
    }
   ],
   "source": [
    "close = df.reset_index()['close']\n",
    "close"
   ]
  },
  {
   "cell_type": "code",
   "execution_count": 124,
   "metadata": {
    "execution": {
     "iopub.execute_input": "2021-07-07T05:46:54.947091Z",
     "iopub.status.busy": "2021-07-07T05:46:54.946765Z",
     "iopub.status.idle": "2021-07-07T05:46:55.122358Z",
     "shell.execute_reply": "2021-07-07T05:46:55.121624Z",
     "shell.execute_reply.started": "2021-07-07T05:46:54.947061Z"
    },
    "scrolled": true
   },
   "outputs": [
    {
     "data": {
      "image/png": "[encoded data removed]",
      "text/plain": [
       "<Figure size 576x432 with 1 Axes>"
      ]
     },
     "metadata": {},
     "output_type": "display_data"
    }
   ],
   "source": [
    "plt.figure(figsize= (8,6))\n",
    "plt.plot(close)\n",
    "plt.title(\"Closing price of Apple stock : 20160705-20210702\")\n",
    "plt.show()"
   ]
  },
  {
   "cell_type": "markdown",
   "metadata": {},
   "source": [
    "- Min-max scaling"
   ]
  },
  {
   "cell_type": "code",
   "execution_count": 125,
   "metadata": {
    "execution": {
     "iopub.execute_input": "2021-07-07T05:46:55.146975Z",
     "iopub.status.busy": "2021-07-07T05:46:55.146470Z",
     "iopub.status.idle": "2021-07-07T05:46:55.152344Z",
     "shell.execute_reply": "2021-07-07T05:46:55.150844Z",
     "shell.execute_reply.started": "2021-07-07T05:46:55.146926Z"
    }
   },
   "outputs": [],
   "source": [
    "scaler = MinMaxScaler(feature_range=(0,1))\n",
    "scaled_close = scaler.fit_transform(np.array(close).reshape(-1,1))"
   ]
  },
  {
   "cell_type": "code",
   "execution_count": 126,
   "metadata": {
    "execution": {
     "iopub.execute_input": "2021-07-07T05:46:55.318489Z",
     "iopub.status.busy": "2021-07-07T05:46:55.318137Z",
     "iopub.status.idle": "2021-07-07T05:46:55.323830Z",
     "shell.execute_reply": "2021-07-07T05:46:55.322652Z",
     "shell.execute_reply.started": "2021-07-07T05:46:55.318456Z"
    },
    "scrolled": true
   },
   "outputs": [
    {
     "name": "stdout",
     "output_type": "stream",
     "text": [
      "[[0.        ]\n",
      " [0.00131355]\n",
      " [0.00231087]\n",
      " ...\n",
      " [0.10209195]\n",
      " [0.10284602]\n",
      " [0.10938944]]\n"
     ]
    }
   ],
   "source": [
    "print(scaled_close)"
   ]
  },
  {
   "cell_type": "markdown",
   "metadata": {},
   "source": [
    "- Split train and test dataset"
   ]
  },
  {
   "cell_type": "code",
   "execution_count": 127,
   "metadata": {
    "execution": {
     "iopub.execute_input": "2021-07-07T05:46:55.494451Z",
     "iopub.status.busy": "2021-07-07T05:46:55.494107Z",
     "iopub.status.idle": "2021-07-07T05:46:55.500677Z",
     "shell.execute_reply": "2021-07-07T05:46:55.499743Z",
     "shell.execute_reply.started": "2021-07-07T05:46:55.494419Z"
    }
   },
   "outputs": [],
   "source": [
    "train_size = int(len(close)*0.795)\n",
    "test_size = len(close)-train_size\n",
    "train_data, test_data = scaled_close[0:train_size,:], scaled_close[train_size:len(close),:1]"
   ]
  },
  {
   "cell_type": "code",
   "execution_count": 128,
   "metadata": {
    "execution": {
     "iopub.execute_input": "2021-07-07T05:46:55.695651Z",
     "iopub.status.busy": "2021-07-07T05:46:55.695279Z",
     "iopub.status.idle": "2021-07-07T05:46:55.701892Z",
     "shell.execute_reply": "2021-07-07T05:46:55.700650Z",
     "shell.execute_reply.started": "2021-07-07T05:46:55.695618Z"
    }
   },
   "outputs": [
    {
     "data": {
      "text/plain": [
       "(1000, 259)"
      ]
     },
     "execution_count": 128,
     "metadata": {},
     "output_type": "execute_result"
    }
   ],
   "source": [
    "train_size,test_size"
   ]
  },
  {
   "cell_type": "code",
   "execution_count": 129,
   "metadata": {
    "execution": {
     "iopub.execute_input": "2021-07-07T05:46:55.882372Z",
     "iopub.status.busy": "2021-07-07T05:46:55.882040Z",
     "iopub.status.idle": "2021-07-07T05:46:55.887769Z",
     "shell.execute_reply": "2021-07-07T05:46:55.886717Z",
     "shell.execute_reply.started": "2021-07-07T05:46:55.882341Z"
    }
   },
   "outputs": [],
   "source": [
    "def create_dataset(dataset, time_step=1):\n",
    "    dataX, dataY = [], []\n",
    "    for i in range(len(dataset)-time_step-1):\n",
    "        a = dataset[i:(i+time_step), 0]\n",
    "        dataX.append(a)\n",
    "        dataY.append(dataset[i + time_step, 0])\n",
    "    return np.array(dataX), np.array(dataY)"
   ]
  },
  {
   "cell_type": "code",
   "execution_count": 130,
   "metadata": {
    "execution": {
     "iopub.execute_input": "2021-07-07T05:46:56.263829Z",
     "iopub.status.busy": "2021-07-07T05:46:56.263481Z",
     "iopub.status.idle": "2021-07-07T05:46:56.271212Z",
     "shell.execute_reply": "2021-07-07T05:46:56.270260Z",
     "shell.execute_reply.started": "2021-07-07T05:46:56.263791Z"
    }
   },
   "outputs": [],
   "source": [
    "time_step = 1\n",
    "X_train, y_train = create_dataset(train_data, time_step)\n",
    "X_test, y_test = create_dataset(test_data, time_step)"
   ]
  },
  {
   "cell_type": "code",
   "execution_count": 131,
   "metadata": {
    "execution": {
     "iopub.execute_input": "2021-07-07T05:46:56.541415Z",
     "iopub.status.busy": "2021-07-07T05:46:56.540859Z",
     "iopub.status.idle": "2021-07-07T05:46:56.547814Z",
     "shell.execute_reply": "2021-07-07T05:46:56.547058Z",
     "shell.execute_reply.started": "2021-07-07T05:46:56.541343Z"
    }
   },
   "outputs": [
    {
     "name": "stdout",
     "output_type": "stream",
     "text": [
      "X train shape : (998, 1)\n",
      "y train shape : (998,)\n",
      "X test shape : (257, 1)\n",
      "y test shape : (257,)\n"
     ]
    }
   ],
   "source": [
    "print(\"X train shape :\", X_train.shape)\n",
    "print(\"y train shape :\", y_train.shape)\n",
    "print(\"X test shape :\", X_test.shape)\n",
    "print(\"y test shape :\", y_test.shape)"
   ]
  },
  {
   "cell_type": "code",
   "execution_count": 132,
   "metadata": {
    "execution": {
     "iopub.execute_input": "2021-07-07T05:46:56.936084Z",
     "iopub.status.busy": "2021-07-07T05:46:56.935469Z",
     "iopub.status.idle": "2021-07-07T05:46:56.942077Z",
     "shell.execute_reply": "2021-07-07T05:46:56.941287Z",
     "shell.execute_reply.started": "2021-07-07T05:46:56.936043Z"
    },
    "scrolled": true
   },
   "outputs": [
    {
     "name": "stdout",
     "output_type": "stream",
     "text": [
      "X train shape : (998, 1, 1)\n",
      "X test shape : (257, 1, 1)\n"
     ]
    }
   ],
   "source": [
    "X_train = X_train.reshape(X_train.shape[0], X_train.shape[1] , 1)\n",
    "X_test = X_test.reshape(X_test.shape[0], X_test.shape[1] , 1)\n",
    "\n",
    "print(\"X train shape :\", X_train.shape)\n",
    "print(\"X test shape :\", X_test.shape)"
   ]
  },
  {
   "cell_type": "markdown",
   "metadata": {},
   "source": [
    "## 2. LSTM"
   ]
  },
  {
   "cell_type": "code",
   "execution_count": 133,
   "metadata": {
    "execution": {
     "iopub.execute_input": "2021-07-07T05:46:57.774683Z",
     "iopub.status.busy": "2021-07-07T05:46:57.774109Z",
     "iopub.status.idle": "2021-07-07T05:46:58.481452Z",
     "shell.execute_reply": "2021-07-07T05:46:58.480694Z",
     "shell.execute_reply.started": "2021-07-07T05:46:57.774645Z"
    }
   },
   "outputs": [],
   "source": [
    "model = Sequential()\n",
    "\n",
    "model.add(LSTM(50, return_sequences=True,input_shape=(X_train.shape[1], X_train.shape[2])))\n",
    "model.add(LSTM(50, return_sequences=True))\n",
    "model.add(LSTM(50))\n",
    "model.add(Dense(1))\n",
    "model.compile(loss='mean_squared_error', optimizer='adam')"
   ]
  },
  {
   "cell_type": "code",
   "execution_count": 134,
   "metadata": {
    "execution": {
     "iopub.execute_input": "2021-07-07T05:46:58.482938Z",
     "iopub.status.busy": "2021-07-07T05:46:58.482532Z",
     "iopub.status.idle": "2021-07-07T05:46:58.489678Z",
     "shell.execute_reply": "2021-07-07T05:46:58.488944Z",
     "shell.execute_reply.started": "2021-07-07T05:46:58.482896Z"
    }
   },
   "outputs": [
    {
     "name": "stdout",
     "output_type": "stream",
     "text": [
      "Model: \"sequential_4\"\n",
      "_________________________________________________________________\n",
      "Layer (type)                 Output Shape              Param #   \n",
      "=================================================================\n",
      "lstm_12 (LSTM)               (None, 1, 50)             10400     \n",
      "_________________________________________________________________\n",
      "lstm_13 (LSTM)               (None, 1, 50)             20200     \n",
      "_________________________________________________________________\n",
      "lstm_14 (LSTM)               (None, 50)                20200     \n",
      "_________________________________________________________________\n",
      "dense_4 (Dense)              (None, 1)                 51        \n",
      "=================================================================\n",
      "Total params: 50,851\n",
      "Trainable params: 50,851\n",
      "Non-trainable params: 0\n",
      "_________________________________________________________________\n"
     ]
    }
   ],
   "source": [
    "model.summary()"
   ]
  },
  {
   "cell_type": "code",
   "execution_count": 135,
   "metadata": {
    "execution": {
     "iopub.execute_input": "2021-07-07T05:46:59.651155Z",
     "iopub.status.busy": "2021-07-07T05:46:59.650644Z",
     "iopub.status.idle": "2021-07-07T05:47:24.081503Z",
     "shell.execute_reply": "2021-07-07T05:47:24.080467Z",
     "shell.execute_reply.started": "2021-07-07T05:46:59.651119Z"
    }
   },
   "outputs": [
    {
     "name": "stdout",
     "output_type": "stream",
     "text": [
      "Epoch 1/100\n",
      "16/16 [==============================] - 6s 84ms/step - loss: 0.0218 - val_loss: 0.0911\n",
      "Epoch 2/100\n",
      "16/16 [==============================] - 0s 12ms/step - loss: 0.0089 - val_loss: 0.0724\n",
      "Epoch 3/100\n",
      "16/16 [==============================] - 0s 12ms/step - loss: 0.0088 - val_loss: 0.0664\n",
      "Epoch 4/100\n",
      "16/16 [==============================] - 0s 12ms/step - loss: 0.0199 - val_loss: 0.0640\n",
      "Epoch 5/100\n",
      "16/16 [==============================] - 0s 12ms/step - loss: 0.0215 - val_loss: 0.0604\n",
      "Epoch 6/100\n",
      "16/16 [==============================] - 0s 12ms/step - loss: 0.0185 - val_loss: 0.0566\n",
      "Epoch 7/100\n",
      "16/16 [==============================] - 0s 12ms/step - loss: 0.0170 - val_loss: 0.0522\n",
      "Epoch 8/100\n",
      "16/16 [==============================] - 0s 12ms/step - loss: 0.0164 - val_loss: 0.0471\n",
      "Epoch 9/100\n",
      "16/16 [==============================] - 0s 12ms/step - loss: 0.0154 - val_loss: 0.0413\n",
      "Epoch 10/100\n",
      "16/16 [==============================] - 0s 12ms/step - loss: 0.0139 - val_loss: 0.0347\n",
      "Epoch 11/100\n",
      "16/16 [==============================] - 0s 12ms/step - loss: 0.0122 - val_loss: 0.0276\n",
      "Epoch 12/100\n",
      "16/16 [==============================] - 0s 12ms/step - loss: 0.0103 - val_loss: 0.0205\n",
      "Epoch 13/100\n",
      "16/16 [==============================] - 0s 12ms/step - loss: 0.0082 - val_loss: 0.0139\n",
      "Epoch 14/100\n",
      "16/16 [==============================] - 0s 12ms/step - loss: 0.0060 - val_loss: 0.0089\n",
      "Epoch 15/100\n",
      "16/16 [==============================] - 0s 12ms/step - loss: 0.0040 - val_loss: 0.0063\n",
      "Epoch 16/100\n",
      "16/16 [==============================] - 0s 12ms/step - loss: 0.0023 - val_loss: 0.0061\n",
      "Epoch 17/100\n",
      "16/16 [==============================] - 0s 12ms/step - loss: 0.0012 - val_loss: 0.0073\n",
      "Epoch 18/100\n",
      "16/16 [==============================] - 0s 12ms/step - loss: 6.8070e-04 - val_loss: 0.0085\n",
      "Epoch 19/100\n",
      "16/16 [==============================] - 0s 12ms/step - loss: 4.6835e-04 - val_loss: 0.0089\n",
      "Epoch 20/100\n",
      "16/16 [==============================] - 0s 12ms/step - loss: 4.0461e-04 - val_loss: 0.0089\n",
      "Epoch 21/100\n",
      "16/16 [==============================] - 0s 12ms/step - loss: 3.9297e-04 - val_loss: 0.0087\n",
      "Epoch 22/100\n",
      "16/16 [==============================] - 0s 12ms/step - loss: 3.9423e-04 - val_loss: 0.0085\n",
      "Epoch 23/100\n",
      "16/16 [==============================] - 0s 12ms/step - loss: 3.9422e-04 - val_loss: 0.0084\n",
      "Epoch 24/100\n",
      "16/16 [==============================] - 0s 12ms/step - loss: 3.9063e-04 - val_loss: 0.0082\n",
      "Epoch 25/100\n",
      "16/16 [==============================] - 0s 12ms/step - loss: 3.8502e-04 - val_loss: 0.0081\n",
      "Epoch 26/100\n",
      "16/16 [==============================] - 0s 12ms/step - loss: 3.7881e-04 - val_loss: 0.0079\n",
      "Epoch 27/100\n",
      "16/16 [==============================] - 0s 12ms/step - loss: 3.7255e-04 - val_loss: 0.0078\n",
      "Epoch 28/100\n",
      "16/16 [==============================] - 0s 12ms/step - loss: 3.6628e-04 - val_loss: 0.0077\n",
      "Epoch 29/100\n",
      "16/16 [==============================] - 0s 11ms/step - loss: 3.5991e-04 - val_loss: 0.0075\n",
      "Epoch 30/100\n",
      "16/16 [==============================] - 0s 13ms/step - loss: 3.5341e-04 - val_loss: 0.0074\n",
      "Epoch 31/100\n",
      "16/16 [==============================] - 0s 12ms/step - loss: 3.4677e-04 - val_loss: 0.0073\n",
      "Epoch 32/100\n",
      "16/16 [==============================] - 0s 11ms/step - loss: 3.4002e-04 - val_loss: 0.0071\n",
      "Epoch 33/100\n",
      "16/16 [==============================] - 0s 12ms/step - loss: 3.3317e-04 - val_loss: 0.0070\n",
      "Epoch 34/100\n",
      "16/16 [==============================] - 0s 12ms/step - loss: 3.2624e-04 - val_loss: 0.0069\n",
      "Epoch 35/100\n",
      "16/16 [==============================] - 0s 12ms/step - loss: 3.1923e-04 - val_loss: 0.0067\n",
      "Epoch 36/100\n",
      "16/16 [==============================] - 0s 12ms/step - loss: 3.1215e-04 - val_loss: 0.0066\n",
      "Epoch 37/100\n",
      "16/16 [==============================] - 0s 12ms/step - loss: 3.0503e-04 - val_loss: 0.0065\n",
      "Epoch 38/100\n",
      "16/16 [==============================] - 0s 12ms/step - loss: 2.9786e-04 - val_loss: 0.0064\n",
      "Epoch 39/100\n",
      "16/16 [==============================] - 0s 12ms/step - loss: 2.9066e-04 - val_loss: 0.0063\n",
      "Epoch 40/100\n",
      "16/16 [==============================] - 0s 12ms/step - loss: 2.8344e-04 - val_loss: 0.0061\n",
      "Epoch 41/100\n",
      "16/16 [==============================] - 0s 11ms/step - loss: 2.7620e-04 - val_loss: 0.0060\n",
      "Epoch 42/100\n",
      "16/16 [==============================] - 0s 12ms/step - loss: 2.6897e-04 - val_loss: 0.0059\n",
      "Epoch 43/100\n",
      "16/16 [==============================] - 0s 13ms/step - loss: 2.6175e-04 - val_loss: 0.0058\n",
      "Epoch 44/100\n",
      "16/16 [==============================] - 0s 11ms/step - loss: 2.5454e-04 - val_loss: 0.0057\n",
      "Epoch 45/100\n",
      "16/16 [==============================] - 0s 11ms/step - loss: 2.4737e-04 - val_loss: 0.0056\n",
      "Epoch 46/100\n",
      "16/16 [==============================] - 0s 12ms/step - loss: 2.4023e-04 - val_loss: 0.0055\n",
      "Epoch 47/100\n",
      "16/16 [==============================] - 0s 12ms/step - loss: 2.3313e-04 - val_loss: 0.0054\n",
      "Epoch 48/100\n",
      "16/16 [==============================] - 0s 12ms/step - loss: 2.2609e-04 - val_loss: 0.0053\n",
      "Epoch 49/100\n",
      "16/16 [==============================] - 0s 11ms/step - loss: 2.1912e-04 - val_loss: 0.0052\n",
      "Epoch 50/100\n",
      "16/16 [==============================] - 0s 11ms/step - loss: 2.1222e-04 - val_loss: 0.0051\n",
      "Epoch 51/100\n",
      "16/16 [==============================] - 0s 12ms/step - loss: 2.0539e-04 - val_loss: 0.0050\n",
      "Epoch 52/100\n",
      "16/16 [==============================] - 0s 12ms/step - loss: 1.9866e-04 - val_loss: 0.0049\n",
      "Epoch 53/100\n",
      "16/16 [==============================] - 0s 12ms/step - loss: 1.9201e-04 - val_loss: 0.0048\n",
      "Epoch 54/100\n",
      "16/16 [==============================] - 0s 12ms/step - loss: 1.8548e-04 - val_loss: 0.0048\n",
      "Epoch 55/100\n",
      "16/16 [==============================] - 0s 11ms/step - loss: 1.7905e-04 - val_loss: 0.0047\n",
      "Epoch 56/100\n",
      "16/16 [==============================] - 0s 11ms/step - loss: 1.7273e-04 - val_loss: 0.0046\n",
      "Epoch 57/100\n",
      "16/16 [==============================] - 0s 11ms/step - loss: 1.6654e-04 - val_loss: 0.0045\n",
      "Epoch 58/100\n",
      "16/16 [==============================] - 0s 12ms/step - loss: 1.6047e-04 - val_loss: 0.0045\n",
      "Epoch 59/100\n",
      "16/16 [==============================] - 0s 11ms/step - loss: 1.5454e-04 - val_loss: 0.0044\n",
      "Epoch 60/100\n",
      "16/16 [==============================] - 0s 12ms/step - loss: 1.4875e-04 - val_loss: 0.0043\n",
      "Epoch 61/100\n",
      "16/16 [==============================] - 0s 12ms/step - loss: 1.4310e-04 - val_loss: 0.0043\n",
      "Epoch 62/100\n",
      "16/16 [==============================] - 0s 11ms/step - loss: 1.3760e-04 - val_loss: 0.0042\n",
      "Epoch 63/100\n",
      "16/16 [==============================] - 0s 12ms/step - loss: 1.3225e-04 - val_loss: 0.0041\n",
      "Epoch 64/100\n",
      "16/16 [==============================] - 0s 11ms/step - loss: 1.2706e-04 - val_loss: 0.0041\n",
      "Epoch 65/100\n",
      "16/16 [==============================] - 0s 12ms/step - loss: 1.2202e-04 - val_loss: 0.0040\n",
      "Epoch 66/100\n",
      "16/16 [==============================] - 0s 12ms/step - loss: 1.1715e-04 - val_loss: 0.0040\n",
      "Epoch 67/100\n",
      "16/16 [==============================] - 0s 12ms/step - loss: 1.1244e-04 - val_loss: 0.0039\n",
      "Epoch 68/100\n",
      "16/16 [==============================] - 0s 12ms/step - loss: 1.0789e-04 - val_loss: 0.0039\n",
      "Epoch 69/100\n",
      "16/16 [==============================] - 0s 12ms/step - loss: 1.0352e-04 - val_loss: 0.0038\n",
      "Epoch 70/100\n",
      "16/16 [==============================] - 0s 12ms/step - loss: 9.9308e-05 - val_loss: 0.0038\n",
      "Epoch 71/100\n",
      "16/16 [==============================] - 0s 12ms/step - loss: 9.5268e-05 - val_loss: 0.0038\n",
      "Epoch 72/100\n",
      "16/16 [==============================] - 0s 12ms/step - loss: 9.1397e-05 - val_loss: 0.0037\n",
      "Epoch 73/100\n",
      "16/16 [==============================] - 0s 12ms/step - loss: 8.7695e-05 - val_loss: 0.0037\n",
      "Epoch 74/100\n",
      "16/16 [==============================] - 0s 11ms/step - loss: 8.4160e-05 - val_loss: 0.0037\n",
      "Epoch 75/100\n",
      "16/16 [==============================] - 0s 12ms/step - loss: 8.0792e-05 - val_loss: 0.0036\n",
      "Epoch 76/100\n",
      "16/16 [==============================] - 0s 12ms/step - loss: 7.7589e-05 - val_loss: 0.0036\n",
      "Epoch 77/100\n",
      "16/16 [==============================] - 0s 12ms/step - loss: 7.4548e-05 - val_loss: 0.0036\n",
      "Epoch 78/100\n",
      "16/16 [==============================] - 0s 12ms/step - loss: 7.1668e-05 - val_loss: 0.0035\n",
      "Epoch 79/100\n",
      "16/16 [==============================] - 0s 12ms/step - loss: 6.8946e-05 - val_loss: 0.0035\n",
      "Epoch 80/100\n",
      "16/16 [==============================] - 0s 12ms/step - loss: 6.6378e-05 - val_loss: 0.0035\n",
      "Epoch 81/100\n",
      "16/16 [==============================] - 0s 13ms/step - loss: 6.3960e-05 - val_loss: 0.0035\n",
      "Epoch 82/100\n",
      "16/16 [==============================] - 0s 12ms/step - loss: 6.1691e-05 - val_loss: 0.0034\n",
      "Epoch 83/100\n",
      "16/16 [==============================] - 0s 12ms/step - loss: 5.9564e-05 - val_loss: 0.0034\n",
      "Epoch 84/100\n",
      "16/16 [==============================] - 0s 11ms/step - loss: 5.7576e-05 - val_loss: 0.0034\n",
      "Epoch 85/100\n",
      "16/16 [==============================] - 0s 12ms/step - loss: 5.5722e-05 - val_loss: 0.0034\n",
      "Epoch 86/100\n",
      "16/16 [==============================] - 0s 12ms/step - loss: 5.3997e-05 - val_loss: 0.0034\n",
      "Epoch 87/100\n",
      "16/16 [==============================] - 0s 12ms/step - loss: 5.2396e-05 - val_loss: 0.0034\n",
      "Epoch 88/100\n",
      "16/16 [==============================] - 0s 12ms/step - loss: 5.0915e-05 - val_loss: 0.0033\n",
      "Epoch 89/100\n",
      "16/16 [==============================] - 0s 12ms/step - loss: 4.9547e-05 - val_loss: 0.0033\n",
      "Epoch 90/100\n",
      "16/16 [==============================] - 0s 12ms/step - loss: 4.8287e-05 - val_loss: 0.0033\n",
      "Epoch 91/100\n",
      "16/16 [==============================] - 0s 12ms/step - loss: 4.7131e-05 - val_loss: 0.0033\n",
      "Epoch 92/100\n",
      "16/16 [==============================] - 0s 12ms/step - loss: 4.6073e-05 - val_loss: 0.0033\n",
      "Epoch 93/100\n",
      "16/16 [==============================] - 0s 12ms/step - loss: 4.5106e-05 - val_loss: 0.0033\n",
      "Epoch 94/100\n",
      "16/16 [==============================] - 0s 11ms/step - loss: 4.4227e-05 - val_loss: 0.0033\n",
      "Epoch 95/100\n",
      "16/16 [==============================] - 0s 12ms/step - loss: 4.3429e-05 - val_loss: 0.0033\n",
      "Epoch 96/100\n",
      "16/16 [==============================] - 0s 12ms/step - loss: 4.2707e-05 - val_loss: 0.0033\n",
      "Epoch 97/100\n",
      "16/16 [==============================] - 0s 12ms/step - loss: 4.2056e-05 - val_loss: 0.0033\n",
      "Epoch 98/100\n",
      "16/16 [==============================] - 0s 12ms/step - loss: 4.1471e-05 - val_loss: 0.0032\n",
      "Epoch 99/100\n",
      "16/16 [==============================] - 0s 12ms/step - loss: 4.0947e-05 - val_loss: 0.0032\n",
      "Epoch 100/100\n",
      "16/16 [==============================] - 0s 12ms/step - loss: 4.0479e-05 - val_loss: 0.0032\n",
      "CPU times: user 32.1 s, sys: 2.42 s, total: 34.5 s\n",
      "Wall time: 24.4 s\n"
     ]
    }
   ],
   "source": [
    "%%time\n",
    "hist = model.fit(X_train,y_train, validation_data=(X_test, y_test), epochs=100, batch_size=64, verbose=1, shuffle = False)"
   ]
  },
  {
   "cell_type": "code",
   "execution_count": 136,
   "metadata": {
    "execution": {
     "iopub.execute_input": "2021-07-07T05:47:26.226265Z",
     "iopub.status.busy": "2021-07-07T05:47:26.225918Z",
     "iopub.status.idle": "2021-07-07T05:47:26.412419Z",
     "shell.execute_reply": "2021-07-07T05:47:26.411302Z",
     "shell.execute_reply.started": "2021-07-07T05:47:26.226233Z"
    },
    "scrolled": true
   },
   "outputs": [
    {
     "data": {
      "image/png": "[encoded data removed]",
      "text/plain": [
       "<Figure size 576x360 with 1 Axes>"
      ]
     },
     "metadata": {},
     "output_type": "display_data"
    }
   ],
   "source": [
    "plt.figure(figsize= (8,5))\n",
    "plt.plot(hist.history['loss'], label='train')\n",
    "plt.plot(hist.history['val_loss'], label='test')\n",
    "plt.legend()\n",
    "plt.title(\"Loss\")\n",
    "plt.show()"
   ]
  },
  {
   "cell_type": "markdown",
   "metadata": {},
   "source": [
    "## 3. Results"
   ]
  },
  {
   "cell_type": "code",
   "execution_count": 137,
   "metadata": {
    "execution": {
     "iopub.execute_input": "2021-07-07T05:47:28.232335Z",
     "iopub.status.busy": "2021-07-07T05:47:28.231980Z",
     "iopub.status.idle": "2021-07-07T05:47:29.306023Z",
     "shell.execute_reply": "2021-07-07T05:47:29.305172Z",
     "shell.execute_reply.started": "2021-07-07T05:47:28.232304Z"
    }
   },
   "outputs": [
    {
     "name": "stdout",
     "output_type": "stream",
     "text": [
      "Train pred shape : (998, 1)\n",
      "Test pred shape : (257, 1)\n"
     ]
    }
   ],
   "source": [
    "train_predict = model.predict(X_train)\n",
    "test_predict = model.predict(X_test)\n",
    "\n",
    "print(\"Train pred shape :\", train_predict.shape)\n",
    "print(\"Test pred shape :\", test_predict.shape)"
   ]
  },
  {
   "cell_type": "code",
   "execution_count": 138,
   "metadata": {
    "execution": {
     "iopub.execute_input": "2021-07-07T05:47:29.334138Z",
     "iopub.status.busy": "2021-07-07T05:47:29.333606Z",
     "iopub.status.idle": "2021-07-07T05:47:29.341136Z",
     "shell.execute_reply": "2021-07-07T05:47:29.340208Z",
     "shell.execute_reply.started": "2021-07-07T05:47:29.334086Z"
    }
   },
   "outputs": [
    {
     "name": "stdout",
     "output_type": "stream",
     "text": [
      "[[361.35294]\n",
      " [366.1114 ]\n",
      " [354.94128]\n",
      " [363.066  ]\n",
      " [366.07162]]\n"
     ]
    }
   ],
   "source": [
    "train_pred = scaler.inverse_transform(train_predict)\n",
    "test_pred = scaler.inverse_transform(test_predict)\n",
    "print(test_pred[:5])"
   ]
  },
  {
   "cell_type": "code",
   "execution_count": 139,
   "metadata": {
    "execution": {
     "iopub.execute_input": "2021-07-07T05:47:30.138408Z",
     "iopub.status.busy": "2021-07-07T05:47:30.138049Z",
     "iopub.status.idle": "2021-07-07T05:47:30.146110Z",
     "shell.execute_reply": "2021-07-07T05:47:30.145044Z",
     "shell.execute_reply.started": "2021-07-07T05:47:30.138357Z"
    }
   },
   "outputs": [],
   "source": [
    "close = np.array(close)\n",
    "cc = close.reshape((len(close), 1))\n",
    "tt1, tt2 = cc[0:train_size,:], cc[train_size:len(close),:]\n",
    "xtrain, ytrain = create_dataset(tt1, 1)\n",
    "Xtest, ytest = create_dataset(tt2, 1)"
   ]
  },
  {
   "cell_type": "code",
   "execution_count": 149,
   "metadata": {
    "execution": {
     "iopub.execute_input": "2021-07-07T05:52:16.873569Z",
     "iopub.status.busy": "2021-07-07T05:52:16.873029Z",
     "iopub.status.idle": "2021-07-07T05:52:17.065021Z",
     "shell.execute_reply": "2021-07-07T05:52:17.064147Z",
     "shell.execute_reply.started": "2021-07-07T05:52:16.873520Z"
    },
    "scrolled": true
   },
   "outputs": [
    {
     "data": {
      "image/png": "[encoded data removed]",
      "text/plain": [
       "<Figure size 576x360 with 1 Axes>"
      ]
     },
     "metadata": {},
     "output_type": "display_data"
    }
   ],
   "source": [
    "plt.figure(figsize= (8,5))\n",
    "plt.plot(test_pred, label='Prediction')\n",
    "plt.plot(ytest, label='Real data')\n",
    "plt.legend()\n",
    "plt.show()"
   ]
  },
  {
   "cell_type": "markdown",
   "metadata": {},
   "source": [
    "- Zoom in !"
   ]
  },
  {
   "cell_type": "code",
   "execution_count": 151,
   "metadata": {
    "execution": {
     "iopub.execute_input": "2021-07-07T05:52:35.832484Z",
     "iopub.status.busy": "2021-07-07T05:52:35.832010Z",
     "iopub.status.idle": "2021-07-07T05:52:36.025315Z",
     "shell.execute_reply": "2021-07-07T05:52:36.024651Z",
     "shell.execute_reply.started": "2021-07-07T05:52:35.832449Z"
    }
   },
   "outputs": [
    {
     "data": {
      "image/png": "[encoded data removed]",
      "text/plain": [
       "<Figure size 864x576 with 1 Axes>"
      ]
     },
     "metadata": {},
     "output_type": "display_data"
    }
   ],
   "source": [
    "plt.figure(figsize= (12,8))\n",
    "plt.plot(test_pred, label='Prediction')\n",
    "plt.plot(ytest, label='Real data')\n",
    "plt.axis([50, 100, 0, 200])\n",
    "plt.legend()\n",
    "plt.show()"
   ]
  },
  {
   "cell_type": "code",
   "execution_count": 152,
   "metadata": {
    "execution": {
     "iopub.execute_input": "2021-07-07T05:52:40.700952Z",
     "iopub.status.busy": "2021-07-07T05:52:40.700426Z",
     "iopub.status.idle": "2021-07-07T05:52:40.707822Z",
     "shell.execute_reply": "2021-07-07T05:52:40.706860Z",
     "shell.execute_reply.started": "2021-07-07T05:52:40.700916Z"
    }
   },
   "outputs": [
    {
     "name": "stdout",
     "output_type": "stream",
     "text": [
      "Test RMSE: 23.395\n",
      "Test MAE: 4.337\n"
     ]
    }
   ],
   "source": [
    "rmse = math.sqrt(mean_squared_error(ytest, test_pred))\n",
    "mae = mean_absolute_error(ytest, test_pred)\n",
    "print('Test RMSE: %.3f' % rmse)\n",
    "print('Test MAE: %.3f' % mae)"
   ]
  },
  {
   "cell_type": "code",
   "execution_count": 153,
   "metadata": {
    "execution": {
     "iopub.execute_input": "2021-07-07T05:52:42.621721Z",
     "iopub.status.busy": "2021-07-07T05:52:42.621330Z",
     "iopub.status.idle": "2021-07-07T05:52:42.629339Z",
     "shell.execute_reply": "2021-07-07T05:52:42.628194Z",
     "shell.execute_reply.started": "2021-07-07T05:52:42.621685Z"
    }
   },
   "outputs": [
    {
     "name": "stdout",
     "output_type": "stream",
     "text": [
      "Shape of closing data : (1259,)\n",
      "(998,) (257,)\n"
     ]
    }
   ],
   "source": [
    "print(\"Shape of closing data :\", np.shape(close))\n",
    "\n",
    "cycle = np.arange(len(close))\n",
    "cycle1 = cycle[0:train_size-2]\n",
    "cycle2 = cycle[train_size+2:len(close)]\n",
    "\n",
    "print(np.shape(cycle1), np.shape(cycle2))"
   ]
  },
  {
   "cell_type": "code",
   "execution_count": 154,
   "metadata": {
    "execution": {
     "iopub.execute_input": "2021-07-07T05:52:43.137970Z",
     "iopub.status.busy": "2021-07-07T05:52:43.137500Z",
     "iopub.status.idle": "2021-07-07T05:52:43.364628Z",
     "shell.execute_reply": "2021-07-07T05:52:43.363730Z",
     "shell.execute_reply.started": "2021-07-07T05:52:43.137936Z"
    }
   },
   "outputs": [
    {
     "data": {
      "image/png": "[encoded data removed]",
      "text/plain": [
       "<Figure size 864x576 with 1 Axes>"
      ]
     },
     "metadata": {},
     "output_type": "display_data"
    }
   ],
   "source": [
    "sns.set_style(\"darkgrid\")\n",
    "plt.figure(figsize=(12, 8))\n",
    "\n",
    "plt.plot(cycle1, xtrain[:,0],label='Used real data', linewidth = 3, color='r')\n",
    "plt.plot(cycle2, ytest,label='Real data', linewidth = 3, color='b')\n",
    "plt.plot(cycle2, test_pred[:,0],label='LSTM Prediction', linewidth = 3, color='g')\n",
    "plt.legend(prop={'size': 16})\n",
    "\n",
    "plt.ylabel('closing price', fontsize = 15)\n",
    "plt.xlabel('day', fontsize = 15)\n",
    "plt.title(\"Closing price of Apple stock : 20160705-20210702\", fontsize = 15)\n",
    "plt.show()"
   ]
  }
 ],
 "metadata": {
  "kernelspec": {
   "display_name": "Python 3",
   "language": "python",
   "name": "python3"
  },
  "language_info": {
   "codemirror_mode": {
    "name": "ipython",
    "version": 3
   },
   "file_extension": ".py",
   "mimetype": "text/x-python",
   "name": "python",
   "nbconvert_exporter": "python",
   "pygments_lexer": "ipython3",
   "version": "3.7.6"
  }
 },
 "nbformat": 4,
 "nbformat_minor": 4
}
